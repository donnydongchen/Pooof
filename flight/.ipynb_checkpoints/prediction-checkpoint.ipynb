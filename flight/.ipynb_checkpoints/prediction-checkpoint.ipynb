{
 "cells": [
  {
   "cell_type": "code",
   "execution_count": 21,
   "metadata": {
    "collapsed": true
   },
   "outputs": [],
   "source": [
    "import warnings\n",
    "warnings.filterwarnings(\"ignore\")\n",
    "import pandas as pd\n",
    "import numpy as np\n",
    "import pickle\n",
    "from datetime import datetime"
   ]
  },
  {
   "cell_type": "markdown",
   "metadata": {},
   "source": [
    "## Load Model"
   ]
  },
  {
   "cell_type": "code",
   "execution_count": 22,
   "metadata": {
    "collapsed": true
   },
   "outputs": [],
   "source": [
    "filename_pickle = 'model/final_model.pkl'"
   ]
  },
  {
   "cell_type": "code",
   "execution_count": 23,
   "metadata": {
    "collapsed": false
   },
   "outputs": [],
   "source": [
    "with open(filename_pickle, 'rb') as handle:\n",
    "    model = pickle.load(handle)"
   ]
  },
  {
   "cell_type": "markdown",
   "metadata": {},
   "source": [
    "## User Input"
   ]
  },
  {
   "cell_type": "code",
   "execution_count": 24,
   "metadata": {
    "collapsed": false
   },
   "outputs": [],
   "source": [
    "DATE = '06/26/17'\n",
    "CRS_DEP_TIME = 1103\n",
    "UNIQUE_CARRIER = 'UA'\n",
    "FL_NUM = 292\n",
    "ORIGIN_CITY_NAME = 'San Francisco, CA'\n",
    "DEST_CITY_NAME = 'Orlando, FL'"
   ]
  },
  {
   "cell_type": "code",
   "execution_count": 25,
   "metadata": {
    "collapsed": false
   },
   "outputs": [],
   "source": [
    "DepHr = CRS_DEP_TIME//100\n",
    "date_obj = datetime.strptime(DATE,'%m/%d/%y')\n",
    "MONTH = date_obj.month\n",
    "DAY_OF_WEEK = date_obj.weekday()+1 #DAY_OF_WEEK in original data 1-7"
   ]
  },
  {
   "cell_type": "code",
   "execution_count": 26,
   "metadata": {
    "collapsed": false
   },
   "outputs": [
    {
     "data": {
      "text/plain": [
       "{'DAY_OF_WEEK': 1,\n",
       " 'DEST_CITY_NAME': 'Orlando, FL',\n",
       " 'DepHr': 11,\n",
       " 'FL_NUM': 292,\n",
       " 'MONTH': 6,\n",
       " 'ORIGIN_CITY_NAME': 'San Francisco, CA',\n",
       " 'UNIQUE_CARRIER': 'UA'}"
      ]
     },
     "execution_count": 26,
     "metadata": {},
     "output_type": "execute_result"
    }
   ],
   "source": [
    "input_var = ('MONTH','DAY_OF_WEEK','DepHr','UNIQUE_CARRIER','FL_NUM','ORIGIN_CITY_NAME','DEST_CITY_NAME')\n",
    "input_dict = {}\n",
    "for i in input_var:\n",
    "    input_dict[i] = locals()[i]\n",
    "input_dict"
   ]
  },
  {
   "cell_type": "markdown",
   "metadata": {},
   "source": [
    "## Add Metadata (ORIGIN/DEST/DISTANCE)"
   ]
  },
  {
   "cell_type": "code",
   "execution_count": 27,
   "metadata": {
    "collapsed": true
   },
   "outputs": [],
   "source": [
    "metadata = pd.read_csv('data/metadata.csv')"
   ]
  },
  {
   "cell_type": "code",
   "execution_count": 28,
   "metadata": {
    "collapsed": false
   },
   "outputs": [],
   "source": [
    "df_lookup = pd.DataFrame(input_dict, index=['i',])"
   ]
  },
  {
   "cell_type": "code",
   "execution_count": 29,
   "metadata": {
    "collapsed": false
   },
   "outputs": [],
   "source": [
    "on_cols = ['UNIQUE_CARRIER','FL_NUM','ORIGIN_CITY_NAME','DEST_CITY_NAME']\n",
    "df_input = pd.merge(df_lookup, metadata, how='left', on=on_cols)"
   ]
  },
  {
   "cell_type": "code",
   "execution_count": 34,
   "metadata": {
    "collapsed": false
   },
   "outputs": [
    {
     "data": {
      "text/html": [
       "<div>\n",
       "<table border=\"1\" class=\"dataframe\">\n",
       "  <thead>\n",
       "    <tr style=\"text-align: right;\">\n",
       "      <th></th>\n",
       "      <th>DAY_OF_WEEK</th>\n",
       "      <th>DEST_CITY_NAME</th>\n",
       "      <th>DepHr</th>\n",
       "      <th>FL_NUM</th>\n",
       "      <th>MONTH</th>\n",
       "      <th>ORIGIN_CITY_NAME</th>\n",
       "      <th>UNIQUE_CARRIER</th>\n",
       "      <th>ORIGIN</th>\n",
       "      <th>DEST</th>\n",
       "      <th>DISTANCE</th>\n",
       "    </tr>\n",
       "  </thead>\n",
       "  <tbody>\n",
       "    <tr>\n",
       "      <th>0</th>\n",
       "      <td>1</td>\n",
       "      <td>Orlando, FL</td>\n",
       "      <td>11</td>\n",
       "      <td>292</td>\n",
       "      <td>6</td>\n",
       "      <td>San Francisco, CA</td>\n",
       "      <td>UA</td>\n",
       "      <td>SFO</td>\n",
       "      <td>MCO</td>\n",
       "      <td>2446.0</td>\n",
       "    </tr>\n",
       "  </tbody>\n",
       "</table>\n",
       "</div>"
      ],
      "text/plain": [
       "   DAY_OF_WEEK DEST_CITY_NAME  DepHr  FL_NUM  MONTH   ORIGIN_CITY_NAME  \\\n",
       "0            1    Orlando, FL     11     292      6  San Francisco, CA   \n",
       "\n",
       "  UNIQUE_CARRIER ORIGIN DEST  DISTANCE  \n",
       "0             UA    SFO  MCO    2446.0  "
      ]
     },
     "execution_count": 34,
     "metadata": {},
     "output_type": "execute_result"
    }
   ],
   "source": [
    "if df_input.isnull().values.any():\n",
    "    print 'Historic metadata (ORIGIN/DEST/DISTANCE) needed for modeling not found!'\n",
    "df_input"
   ]
  },
  {
   "cell_type": "markdown",
   "metadata": {},
   "source": [
    "## Prediction"
   ]
  },
  {
   "cell_type": "code",
   "execution_count": 37,
   "metadata": {
    "collapsed": false
   },
   "outputs": [
    {
     "name": "stdout",
     "output_type": "stream",
     "text": [
      "[ 0.  1.]\n",
      "[[ 0.78965513  0.21034487]]\n"
     ]
    },
    {
     "name": "stderr",
     "output_type": "stream",
     "text": [
      "/usr/local/lib/python2.7/site-packages/sklearn/preprocessing/data.py:649: DeprecationWarning: Passing 1d arrays as data is deprecated in 0.17 and will raise ValueError in 0.19. Reshape your data either using X.reshape(-1, 1) if your data has a single feature or X.reshape(1, -1) if it contains a single sample.\n",
      "  warnings.warn(DEPRECATION_MSG_1D, DeprecationWarning)\n"
     ]
    }
   ],
   "source": [
    "print (model.classes_)\n",
    "predictions = model.predict_proba(df_input)\n",
    "print (predictions)"
   ]
  },
  {
   "cell_type": "code",
   "execution_count": 44,
   "metadata": {
    "collapsed": false
   },
   "outputs": [
    {
     "name": "stdout",
     "output_type": "stream",
     "text": [
      "The probability of delay is 21%\n"
     ]
    }
   ],
   "source": [
    "print ('The probability of delay is {:.0%}'.format(predictions[0][1]))"
   ]
  }
 ],
 "metadata": {
  "kernelspec": {
   "display_name": "Python 2",
   "language": "python",
   "name": "python2"
  },
  "language_info": {
   "codemirror_mode": {
    "name": "ipython",
    "version": 2
   },
   "file_extension": ".py",
   "mimetype": "text/x-python",
   "name": "python",
   "nbconvert_exporter": "python",
   "pygments_lexer": "ipython2",
   "version": "2.7.12"
  }
 },
 "nbformat": 4,
 "nbformat_minor": 1
}
