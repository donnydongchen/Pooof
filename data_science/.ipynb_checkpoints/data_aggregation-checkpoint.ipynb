{
 "cells": [
  {
   "cell_type": "code",
   "execution_count": 29,
   "metadata": {
    "collapsed": true
   },
   "outputs": [],
   "source": [
    "import pandas as pd\n",
    "import glob"
   ]
  },
  {
   "cell_type": "code",
   "execution_count": null,
   "metadata": {
    "collapsed": false
   },
   "outputs": [],
   "source": [
    "data_path = 'data/'\n",
    "filename_metadata = 'metadata.csv'\n",
    "filename_aggregated = 'aggregated.csv'"
   ]
  },
  {
   "cell_type": "code",
   "execution_count": null,
   "metadata": {
    "collapsed": false
   },
   "outputs": [
    {
     "name": "stdout",
     "output_type": "stream",
     "text": [
      "\n",
      "loading 'data/432303311_T_ONTIME (1).zip'...\n",
      "\n",
      "loading 'data/432303311_T_ONTIME (10).zip'...\n",
      "\n",
      "loading 'data/432303311_T_ONTIME (11).zip'...\n",
      "\n",
      "loading 'data/432303311_T_ONTIME (2).zip'...\n",
      "\n",
      "loading 'data/432303311_T_ONTIME (3).zip'...\n"
     ]
    }
   ],
   "source": [
    "files_list = glob.glob(data_path+'*.zip')\n",
    "data = pd.DataFrame()\n",
    "for file in files_list:\n",
    "    print \"\\nloading '%s'...\" % file\n",
    "    data = pd.concat([data,pd.read_csv(file, compression='zip')], axis=0)"
   ]
  },
  {
   "cell_type": "code",
   "execution_count": null,
   "metadata": {
    "collapsed": false
   },
   "outputs": [],
   "source": [
    "print(data.shape)"
   ]
  },
  {
   "cell_type": "code",
   "execution_count": null,
   "metadata": {
    "collapsed": false
   },
   "outputs": [],
   "source": [
    "data.to_csv(data_path+filename_aggregated, index=False)"
   ]
  },
  {
   "cell_type": "code",
   "execution_count": null,
   "metadata": {
    "collapsed": false
   },
   "outputs": [],
   "source": [
    "metadata_cols = ['ORIGIN','DEST','DISTANCE']\n",
    "metadata = data[metadata_cols].drop_duplicates()\n",
    "metadata.shape"
   ]
  },
  {
   "cell_type": "code",
   "execution_count": null,
   "metadata": {
    "collapsed": false,
    "scrolled": true
   },
   "outputs": [],
   "source": [
    "#notice: some ORIGIN & DEST have different distances, but this won't effect prediction (we grabb the first probability)\n",
    "#TODO: calculate distances by coordinates\n",
    "data[['ORIGIN','DEST']].drop_duplicates().shape"
   ]
  },
  {
   "cell_type": "code",
   "execution_count": null,
   "metadata": {
    "collapsed": false
   },
   "outputs": [],
   "source": [
    "metadata.to_csv(data_path+filename_metadata, index=False)"
   ]
  },
  {
   "cell_type": "code",
   "execution_count": null,
   "metadata": {
    "collapsed": true
   },
   "outputs": [],
   "source": []
  }
 ],
 "metadata": {
  "kernelspec": {
   "display_name": "Python 2",
   "language": "python",
   "name": "python2"
  },
  "language_info": {
   "codemirror_mode": {
    "name": "ipython",
    "version": 2
   },
   "file_extension": ".py",
   "mimetype": "text/x-python",
   "name": "python",
   "nbconvert_exporter": "python",
   "pygments_lexer": "ipython2",
   "version": "2.7.12"
  }
 },
 "nbformat": 4,
 "nbformat_minor": 1
}
