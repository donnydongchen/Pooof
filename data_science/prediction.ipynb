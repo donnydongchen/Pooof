{
 "cells": [
  {
   "cell_type": "code",
   "execution_count": 51,
   "metadata": {
    "collapsed": true
   },
   "outputs": [],
   "source": [
    "import warnings\n",
    "warnings.filterwarnings(\"ignore\")\n",
    "import pandas as pd\n",
    "import numpy as np\n",
    "import pickle\n",
    "from datetime import datetime"
   ]
  },
  {
   "cell_type": "markdown",
   "metadata": {},
   "source": [
    "## Load Model"
   ]
  },
  {
   "cell_type": "code",
   "execution_count": 52,
   "metadata": {
    "collapsed": true
   },
   "outputs": [],
   "source": [
    "filename_pickle = 'model/final_model.pkl'"
   ]
  },
  {
   "cell_type": "code",
   "execution_count": 53,
   "metadata": {
    "collapsed": false
   },
   "outputs": [],
   "source": [
    "with open(filename_pickle, 'rb') as handle:\n",
    "    model = pickle.load(handle)"
   ]
  },
  {
   "cell_type": "markdown",
   "metadata": {},
   "source": [
    "## User Input"
   ]
  },
  {
   "cell_type": "code",
   "execution_count": 54,
   "metadata": {
    "collapsed": false
   },
   "outputs": [],
   "source": [
    "DATE = '06/26/17'\n",
    "CRS_DEP_TIME = '1103'\n",
    "UNIQUE_CARRIER = 'DL'\n",
    "FL_NUM = '104'\n",
    "ORIGIN = 'ATL'\n",
    "DEST = 'BOS'"
   ]
  },
  {
   "cell_type": "code",
   "execution_count": 55,
   "metadata": {
    "collapsed": false
   },
   "outputs": [],
   "source": [
    "DepHr = int(CRS_DEP_TIME)//100\n",
    "date_obj = datetime.strptime(DATE,'%m/%d/%y')\n",
    "MONTH = date_obj.month\n",
    "DAY_OF_WEEK = date_obj.weekday()+1 #DAY_OF_WEEK in original data 1-7\n",
    "FL_NUM = int(FL_NUM)"
   ]
  },
  {
   "cell_type": "code",
   "execution_count": 56,
   "metadata": {
    "collapsed": false
   },
   "outputs": [
    {
     "data": {
      "text/plain": [
       "{'DAY_OF_WEEK': 1,\n",
       " 'DEST': 'BOS',\n",
       " 'DepHr': 11,\n",
       " 'FL_NUM': 104,\n",
       " 'MONTH': 6,\n",
       " 'ORIGIN': 'ATL',\n",
       " 'UNIQUE_CARRIER': 'DL'}"
      ]
     },
     "execution_count": 56,
     "metadata": {},
     "output_type": "execute_result"
    }
   ],
   "source": [
    "input_var_list = ['MONTH','DAY_OF_WEEK','DepHr','UNIQUE_CARRIER','FL_NUM','ORIGIN','DEST']\n",
    "input_value_list = [MONTH, DAY_OF_WEEK, DepHr, UNIQUE_CARRIER, FL_NUM, ORIGIN, DEST]\n",
    "input_dict = dict(zip(input_var_list, input_value_list))\n",
    "input_dict"
   ]
  },
  {
   "cell_type": "markdown",
   "metadata": {},
   "source": [
    "## Add Metadata (ORIGIN/DEST/DISTANCE)"
   ]
  },
  {
   "cell_type": "code",
   "execution_count": 57,
   "metadata": {
    "collapsed": true
   },
   "outputs": [],
   "source": [
    "data_path = 'data/'\n",
    "filename_metadata = data_path+'metadata.csv'"
   ]
  },
  {
   "cell_type": "code",
   "execution_count": 58,
   "metadata": {
    "collapsed": true
   },
   "outputs": [],
   "source": [
    "metadata = pd.read_csv(filename_metadata)"
   ]
  },
  {
   "cell_type": "code",
   "execution_count": 59,
   "metadata": {
    "collapsed": false
   },
   "outputs": [],
   "source": [
    "df_lookup = pd.DataFrame(input_dict, index=['i',])"
   ]
  },
  {
   "cell_type": "code",
   "execution_count": 60,
   "metadata": {
    "collapsed": false
   },
   "outputs": [],
   "source": [
    "on_cols = ['ORIGIN','DEST']\n",
    "df_input = pd.merge(df_lookup, metadata, how='left', on=on_cols)"
   ]
  },
  {
   "cell_type": "code",
   "execution_count": 61,
   "metadata": {
    "collapsed": false
   },
   "outputs": [
    {
     "data": {
      "text/html": [
       "<div>\n",
       "<table border=\"1\" class=\"dataframe\">\n",
       "  <thead>\n",
       "    <tr style=\"text-align: right;\">\n",
       "      <th></th>\n",
       "      <th>DAY_OF_WEEK</th>\n",
       "      <th>DEST</th>\n",
       "      <th>DepHr</th>\n",
       "      <th>FL_NUM</th>\n",
       "      <th>MONTH</th>\n",
       "      <th>ORIGIN</th>\n",
       "      <th>UNIQUE_CARRIER</th>\n",
       "      <th>DISTANCE</th>\n",
       "    </tr>\n",
       "  </thead>\n",
       "  <tbody>\n",
       "    <tr>\n",
       "      <th>0</th>\n",
       "      <td>1</td>\n",
       "      <td>BOS</td>\n",
       "      <td>11</td>\n",
       "      <td>104</td>\n",
       "      <td>6</td>\n",
       "      <td>ATL</td>\n",
       "      <td>DL</td>\n",
       "      <td>946.0</td>\n",
       "    </tr>\n",
       "  </tbody>\n",
       "</table>\n",
       "</div>"
      ],
      "text/plain": [
       "   DAY_OF_WEEK DEST  DepHr  FL_NUM  MONTH ORIGIN UNIQUE_CARRIER  DISTANCE\n",
       "0            1  BOS     11     104      6    ATL             DL     946.0"
      ]
     },
     "execution_count": 61,
     "metadata": {},
     "output_type": "execute_result"
    }
   ],
   "source": [
    "if df_input.isnull().values.any():\n",
    "    print 'Historic metadata (ORIGIN/DEST/DISTANCE) needed for modeling not found!'\n",
    "df_input"
   ]
  },
  {
   "cell_type": "markdown",
   "metadata": {},
   "source": [
    "## Prediction"
   ]
  },
  {
   "cell_type": "code",
   "execution_count": 62,
   "metadata": {
    "collapsed": false
   },
   "outputs": [
    {
     "name": "stdout",
     "output_type": "stream",
     "text": [
      "[ 0.  1.]\n",
      "[[ 0.83329373  0.16670627]]\n"
     ]
    }
   ],
   "source": [
    "print (model.classes_)\n",
    "predictions = model.predict_proba(df_input)\n",
    "print (predictions)"
   ]
  },
  {
   "cell_type": "code",
   "execution_count": 63,
   "metadata": {
    "collapsed": false
   },
   "outputs": [
    {
     "name": "stdout",
     "output_type": "stream",
     "text": [
      "The probability of delay is 17%\n"
     ]
    }
   ],
   "source": [
    "print ('The probability of delay is {:.0%}'.format(predictions[0][1]))"
   ]
  },
  {
   "cell_type": "code",
   "execution_count": null,
   "metadata": {
    "collapsed": true
   },
   "outputs": [],
   "source": []
  }
 ],
 "metadata": {
  "kernelspec": {
   "display_name": "Python 2",
   "language": "python",
   "name": "python2"
  },
  "language_info": {
   "codemirror_mode": {
    "name": "ipython",
    "version": 2
   },
   "file_extension": ".py",
   "mimetype": "text/x-python",
   "name": "python",
   "nbconvert_exporter": "python",
   "pygments_lexer": "ipython2",
   "version": "2.7.12"
  }
 },
 "nbformat": 4,
 "nbformat_minor": 1
}
